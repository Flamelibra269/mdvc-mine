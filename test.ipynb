{
 "cells": [
  {
   "cell_type": "code",
   "execution_count": 1,
   "metadata": {},
   "outputs": [],
   "source": [
    "import numpy as np\n",
    "import h5py\n",
    "import os\n"
   ]
  },
  {
   "cell_type": "code",
   "execution_count": 5,
   "metadata": {},
   "outputs": [
    {
     "ename": "ValueError",
     "evalue": "Object arrays cannot be loaded when allow_pickle=False",
     "output_type": "error",
     "traceback": [
      "\u001b[0;31m---------------------------------------------------------------------------\u001b[0m",
      "\u001b[0;31mValueError\u001b[0m                                Traceback (most recent call last)",
      "Cell \u001b[0;32mIn[5], line 4\u001b[0m\n\u001b[1;32m      2\u001b[0m \u001b[38;5;28;01mwith\u001b[39;00m h5py\u001b[38;5;241m.\u001b[39mFile(\u001b[38;5;124m\"\u001b[39m\u001b[38;5;124msub_activitynet_v1-3.i3d_25fps_stack24step24_2stream.hdf5\u001b[39m\u001b[38;5;124m\"\u001b[39m, \u001b[38;5;124m\"\u001b[39m\u001b[38;5;124mw\u001b[39m\u001b[38;5;124m\"\u001b[39m) \u001b[38;5;28;01mas\u001b[39;00m f:\n\u001b[1;32m      3\u001b[0m     \u001b[38;5;28;01mfor\u001b[39;00m files \u001b[38;5;129;01min\u001b[39;00m os\u001b[38;5;241m.\u001b[39mlistdir(\u001b[38;5;28mdir\u001b[39m):\n\u001b[0;32m----> 4\u001b[0m         rgb \u001b[38;5;241m=\u001b[39m \u001b[43mnp\u001b[49m\u001b[38;5;241;43m.\u001b[39;49m\u001b[43mload\u001b[49m\u001b[43m(\u001b[49m\u001b[38;5;28;43mdir\u001b[39;49m\u001b[43m \u001b[49m\u001b[38;5;241;43m+\u001b[39;49m\u001b[43m \u001b[49m\u001b[38;5;124;43m\"\u001b[39;49m\u001b[38;5;124;43m/\u001b[39;49m\u001b[38;5;124;43m\"\u001b[39;49m\u001b[43m \u001b[49m\u001b[38;5;241;43m+\u001b[39;49m\u001b[43m \u001b[49m\u001b[43mfiles\u001b[49m\u001b[43m \u001b[49m\u001b[38;5;241;43m+\u001b[39;49m\u001b[43m \u001b[49m\u001b[38;5;124;43m\"\u001b[39;49m\u001b[38;5;124;43m/\u001b[39;49m\u001b[38;5;124;43m\"\u001b[39;49m\u001b[43m \u001b[49m\u001b[38;5;241;43m+\u001b[39;49m\u001b[43m \u001b[49m\u001b[38;5;124;43m\"\u001b[39;49m\u001b[38;5;124;43mrgb.npy\u001b[39;49m\u001b[38;5;124;43m\"\u001b[39;49m\u001b[43m)\u001b[49m\n\u001b[1;32m      5\u001b[0m         flow \u001b[38;5;241m=\u001b[39m np\u001b[38;5;241m.\u001b[39mload(\u001b[38;5;28mdir\u001b[39m \u001b[38;5;241m+\u001b[39m \u001b[38;5;124m\"\u001b[39m\u001b[38;5;124m/\u001b[39m\u001b[38;5;124m\"\u001b[39m \u001b[38;5;241m+\u001b[39m files \u001b[38;5;241m+\u001b[39m \u001b[38;5;124m\"\u001b[39m\u001b[38;5;124m/\u001b[39m\u001b[38;5;124m\"\u001b[39m \u001b[38;5;241m+\u001b[39m \u001b[38;5;124m\"\u001b[39m\u001b[38;5;124mflow.npy\u001b[39m\u001b[38;5;124m\"\u001b[39m )\n\u001b[1;32m      6\u001b[0m         f\u001b[38;5;241m.\u001b[39mcreate_dataset(\u001b[38;5;124mf\u001b[39m\u001b[38;5;124m'\u001b[39m\u001b[38;5;132;01m{\u001b[39;00mfiles\u001b[38;5;132;01m}\u001b[39;00m\u001b[38;5;124m/i3d_features/rgb\u001b[39m\u001b[38;5;124m'\u001b[39m , data \u001b[38;5;241m=\u001b[39m rgb)\n",
      "File \u001b[0;32m~/miniconda3/envs/pytorch_env/lib/python3.10/site-packages/numpy/lib/npyio.py:432\u001b[0m, in \u001b[0;36mload\u001b[0;34m(file, mmap_mode, allow_pickle, fix_imports, encoding, max_header_size)\u001b[0m\n\u001b[1;32m    <a href='file:///home/akshayajit/miniconda3/envs/pytorch_env/lib/python3.10/site-packages/numpy/lib/npyio.py?line=428'>429</a>\u001b[0m         \u001b[39mreturn\u001b[39;00m \u001b[39mformat\u001b[39m\u001b[39m.\u001b[39mopen_memmap(file, mode\u001b[39m=\u001b[39mmmap_mode,\n\u001b[1;32m    <a href='file:///home/akshayajit/miniconda3/envs/pytorch_env/lib/python3.10/site-packages/numpy/lib/npyio.py?line=429'>430</a>\u001b[0m                                   max_header_size\u001b[39m=\u001b[39mmax_header_size)\n\u001b[1;32m    <a href='file:///home/akshayajit/miniconda3/envs/pytorch_env/lib/python3.10/site-packages/numpy/lib/npyio.py?line=430'>431</a>\u001b[0m     \u001b[39melse\u001b[39;00m:\n\u001b[0;32m--> <a href='file:///home/akshayajit/miniconda3/envs/pytorch_env/lib/python3.10/site-packages/numpy/lib/npyio.py?line=431'>432</a>\u001b[0m         \u001b[39mreturn\u001b[39;00m \u001b[39mformat\u001b[39;49m\u001b[39m.\u001b[39;49mread_array(fid, allow_pickle\u001b[39m=\u001b[39;49mallow_pickle,\n\u001b[1;32m    <a href='file:///home/akshayajit/miniconda3/envs/pytorch_env/lib/python3.10/site-packages/numpy/lib/npyio.py?line=432'>433</a>\u001b[0m                                  pickle_kwargs\u001b[39m=\u001b[39;49mpickle_kwargs,\n\u001b[1;32m    <a href='file:///home/akshayajit/miniconda3/envs/pytorch_env/lib/python3.10/site-packages/numpy/lib/npyio.py?line=433'>434</a>\u001b[0m                                  max_header_size\u001b[39m=\u001b[39;49mmax_header_size)\n\u001b[1;32m    <a href='file:///home/akshayajit/miniconda3/envs/pytorch_env/lib/python3.10/site-packages/numpy/lib/npyio.py?line=434'>435</a>\u001b[0m \u001b[39melse\u001b[39;00m:\n\u001b[1;32m    <a href='file:///home/akshayajit/miniconda3/envs/pytorch_env/lib/python3.10/site-packages/numpy/lib/npyio.py?line=435'>436</a>\u001b[0m     \u001b[39m# Try a pickle\u001b[39;00m\n\u001b[1;32m    <a href='file:///home/akshayajit/miniconda3/envs/pytorch_env/lib/python3.10/site-packages/numpy/lib/npyio.py?line=436'>437</a>\u001b[0m     \u001b[39mif\u001b[39;00m \u001b[39mnot\u001b[39;00m allow_pickle:\n",
      "File \u001b[0;32m~/miniconda3/envs/pytorch_env/lib/python3.10/site-packages/numpy/lib/format.py:776\u001b[0m, in \u001b[0;36mread_array\u001b[0;34m(fp, allow_pickle, pickle_kwargs, max_header_size)\u001b[0m\n\u001b[1;32m    <a href='file:///home/akshayajit/miniconda3/envs/pytorch_env/lib/python3.10/site-packages/numpy/lib/format.py?line=772'>773</a>\u001b[0m \u001b[39mif\u001b[39;00m dtype\u001b[39m.\u001b[39mhasobject:\n\u001b[1;32m    <a href='file:///home/akshayajit/miniconda3/envs/pytorch_env/lib/python3.10/site-packages/numpy/lib/format.py?line=773'>774</a>\u001b[0m     \u001b[39m# The array contained Python objects. We need to unpickle the data.\u001b[39;00m\n\u001b[1;32m    <a href='file:///home/akshayajit/miniconda3/envs/pytorch_env/lib/python3.10/site-packages/numpy/lib/format.py?line=774'>775</a>\u001b[0m     \u001b[39mif\u001b[39;00m \u001b[39mnot\u001b[39;00m allow_pickle:\n\u001b[0;32m--> <a href='file:///home/akshayajit/miniconda3/envs/pytorch_env/lib/python3.10/site-packages/numpy/lib/format.py?line=775'>776</a>\u001b[0m         \u001b[39mraise\u001b[39;00m \u001b[39mValueError\u001b[39;00m(\u001b[39m\"\u001b[39m\u001b[39mObject arrays cannot be loaded when \u001b[39m\u001b[39m\"\u001b[39m\n\u001b[1;32m    <a href='file:///home/akshayajit/miniconda3/envs/pytorch_env/lib/python3.10/site-packages/numpy/lib/format.py?line=776'>777</a>\u001b[0m                          \u001b[39m\"\u001b[39m\u001b[39mallow_pickle=False\u001b[39m\u001b[39m\"\u001b[39m)\n\u001b[1;32m    <a href='file:///home/akshayajit/miniconda3/envs/pytorch_env/lib/python3.10/site-packages/numpy/lib/format.py?line=777'>778</a>\u001b[0m     \u001b[39mif\u001b[39;00m pickle_kwargs \u001b[39mis\u001b[39;00m \u001b[39mNone\u001b[39;00m:\n\u001b[1;32m    <a href='file:///home/akshayajit/miniconda3/envs/pytorch_env/lib/python3.10/site-packages/numpy/lib/format.py?line=778'>779</a>\u001b[0m         pickle_kwargs \u001b[39m=\u001b[39m {}\n",
      "\u001b[0;31mValueError\u001b[0m: Object arrays cannot be loaded when allow_pickle=False"
     ]
    }
   ],
   "source": [
    "dir = \"data/new_one\"\n",
    "with h5py.File(\"sub_activitynet_v1-3.i3d_25fps_stack24step24_2stream.hdf5\", \"w\") as f:\n",
    "    for files in os.listdir(dir):\n",
    "        rgb = np.load(dir + \"/\" + files + \"/\" + \"rgb.npy\")\n",
    "        flow = np.load(dir + \"/\" + files + \"/\" + \"flow.npy\" )\n",
    "        f.create_dataset(f'{files}/i3d_features/rgb' , data = rgb)\n",
    "        f.create_dataset(f'{files}/i3d_features/flow' , data = flow)\n",
    "\n"
   ]
  },
  {
   "cell_type": "code",
   "execution_count": 6,
   "metadata": {},
   "outputs": [
    {
     "data": {
      "text/plain": [
       "'1.23.5'"
      ]
     },
     "execution_count": 6,
     "metadata": {},
     "output_type": "execute_result"
    }
   ],
   "source": [
    "np.__version__"
   ]
  },
  {
   "cell_type": "code",
   "execution_count": null,
   "metadata": {},
   "outputs": [],
   "source": []
  }
 ],
 "metadata": {
  "interpreter": {
   "hash": "be9b9738250523cb0c17c2481deb58d7abdbe84284c871d9a5209c0cd3552b0d"
  },
  "kernelspec": {
   "display_name": "Python 3.10.0 ('pytorch_env')",
   "language": "python",
   "name": "python3"
  },
  "language_info": {
   "codemirror_mode": {
    "name": "ipython",
    "version": 3
   },
   "file_extension": ".py",
   "mimetype": "text/x-python",
   "name": "python",
   "nbconvert_exporter": "python",
   "pygments_lexer": "ipython3",
   "version": "3.10.0"
  },
  "orig_nbformat": 4
 },
 "nbformat": 4,
 "nbformat_minor": 2
}
